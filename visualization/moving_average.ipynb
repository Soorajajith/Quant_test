{
 "cells": [
  {
   "cell_type": "code",
   "execution_count": null,
   "id": "52a4f3d7",
   "metadata": {},
   "outputs": [],
   "source": [
    "import yfinance as yf\n",
    "import talib\n",
    "import matplotlib.pyplot as plt\n",
    "import numpy as np\n",
    "import plotly.graph_objects as go\n",
    "import matplotlib.dates as mdates\n",
    "import sys\n",
    "import os\n",
    "import importlib\n",
    "sys.path.append(os.path.abspath(\"../src\"))  # relative to the notebook location\n",
    "import data_loader as dl\n",
    "importlib.reload(dl)"
   ]
  },
  {
   "cell_type": "code",
   "execution_count": null,
   "id": "e106d476",
   "metadata": {},
   "outputs": [],
   "source": [
    "stock_data = dl.DataLoader()\n",
    "print(stock_data.source)  # Print the data source to verify\n",
    "print(stock_data.tickers)  # Print the list of tickers to verify"
   ]
  },
  {
   "cell_type": "code",
   "execution_count": null,
   "id": "7bc4ba84",
   "metadata": {},
   "outputs": [],
   "source": [
    "ticker = stock_data.tickers[1]  # Example ticker, e.g., AAPL\n",
    "market_data = stock_data.market_data(ticker,  interval=\"5d\", start_date=\"2019-01-01\", end_date=\"2023-01-01\")\n",
    "financial_data = stock_data.download_financials(ticker)\n",
    "options_data = stock_data.download_options_data(ticker)"
   ]
  },
  {
   "cell_type": "code",
   "execution_count": null,
   "id": "99b481e9",
   "metadata": {},
   "outputs": [],
   "source": [
    "# Parameters\n",
    "# aapl = yf.Ticker(\"AAPL\")\n",
    "# data = aapl.history(period=\"max\")\n",
    "# # Plotly plot\n",
    "# price = go.Figure()\n",
    "# price.add_trace(go.Scatter(\n",
    "#     x = data.index,\n",
    "#     y = data[\"Close\"],\n",
    "#     mode = \"lines\",\n",
    "#     name = \"Close Price\",\n",
    "#     line = dict(color = \"blue\")\n",
    "# ))\n",
    "# price.update_layout(\n",
    "#     title = \"AAPL Closing Price\",\n",
    "#     xaxis_title = \"Date (Year-Month-Day)\",\n",
    "#     yaxis_title = \"Price ($)\",\n",
    "#     xaxis_rangeslider_visible = False\n",
    "# )"
   ]
  },
  {
   "cell_type": "code",
   "execution_count": null,
   "id": "b62e93e8",
   "metadata": {},
   "outputs": [],
   "source": [
    "# Calculate a 50-day moving average using TA-Lib\n",
    "# data['MA50'] = talib.SMA(data['Close'], timeperiod=50)\n",
    "\n",
    "# # Calculate a 200-day moving average using TA-Lib\n",
    "# data['MA200'] = talib.SMA(data['Close'], timeperiod=200 )\n",
    "\n",
    "# Plot closing price and moving averages\n",
    "# plt.figure(figsize=(12, 6))\n",
    "# plt.plot(data.index, data['Close'], label='AAPL Close', color='blue', linewidth=1)\n",
    "# plt.plot(data.index, data['MA50'], label='50-day SMA', color='orange', linewidth=1.2)\n",
    "# plt.plot(data.index, data['MA200'], label='200-day SMA', color='red', linewidth=1.2)\n",
    "\n",
    "# plt.title(\"AAPL Price with 50 & 200-Day Moving Averages\")\n",
    "# plt.xlabel(\"Date\")\n",
    "# plt.ylabel(\"Price (USD)\")\n",
    "# plt.legend()\n",
    "# plt.grid(True)\n",
    "# plt.show()"
   ]
  },
  {
   "cell_type": "code",
   "execution_count": null,
   "id": "f77f9dc2",
   "metadata": {},
   "outputs": [],
   "source": [
    "import yfinance as yf\n",
    "import pandas as pd\n",
    "data = yf.download(\"AAPL\", interval=\"5d\", start=\"2019-05-10\", end=\"2025-05-10\")\n",
    "options_data = yf.Ticker(\"AAPL\").option_chain()\n",
    "financials= yf.Ticker(\"AAPL\").financials\n",
    "data_history = yf.Ticker(\"AAPL\").history(start=\"2019-05-10\", end=\"2025-05-10\", interval=\"1d\")\n",
    "print(data_history)\n",
    "ticker = \"AAPL\"\n",
    "data_history = data_history[[\"Open\", \"High\", \"Low\", \"Close\", \"Volume\"]]\n",
    "data_history = data_history.dropna()\n",
    "data_history = data_history.astype(float)\n",
    "data_history[\"Symbol\"] = ticker\n",
    "market_df = data_history.reset_index()\n",
    "raw_data= yf.Ticker(ticker).financials\n",
    "data = raw_data.transpose()\n",
    "data[\"Symbol\"] = ticker\n",
    "data = data.dropna(axis=1, how='all')  # Drop columns with all NaN values\n",
    "data = data.reset_index()\n",
    "\n"
   ]
  },
  {
   "cell_type": "code",
   "execution_count": null,
   "id": "6eabff02",
   "metadata": {},
   "outputs": [],
   "source": []
  }
 ],
 "metadata": {
  "jupytext": {
   "cell_metadata_filter": "-all",
   "main_language": "python",
   "notebook_metadata_filter": "-all"
  },
  "kernelspec": {
   "display_name": "Python 3",
   "language": "python",
   "name": "python3"
  },
  "language_info": {
   "codemirror_mode": {
    "name": "ipython",
    "version": 3
   },
   "file_extension": ".py",
   "mimetype": "text/x-python",
   "name": "python",
   "nbconvert_exporter": "python",
   "pygments_lexer": "ipython3",
   "version": "3.10.18"
  }
 },
 "nbformat": 4,
 "nbformat_minor": 5
}
