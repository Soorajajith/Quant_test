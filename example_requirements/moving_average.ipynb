{
 "cells": [
  {
   "cell_type": "code",
   "execution_count": null,
   "id": "52a4f3d7",
   "metadata": {},
   "outputs": [],
   "source": [
    "import yfinance as yf\n",
    "import talib\n",
    "import matplotlib.pyplot as plt\n",
    "import numpy as np\n",
    "import plotly.graph_objects as go\n",
    "import matplotlib.dates as mdates"
   ]
  },
  {
   "cell_type": "code",
   "execution_count": null,
   "id": "99b481e9",
   "metadata": {},
   "outputs": [],
   "source": [
    "# Parameters\n",
    "aapl = yf.Ticker(\"AAPL\")\n",
    "data = aapl.history(period=\"max\")\n",
    "# Plotly plot\n",
    "price = go.Figure()\n",
    "price.add_trace(go.Scatter(\n",
    "    x = data.index,\n",
    "    y = data[\"Close\"],\n",
    "    mode = \"lines\",\n",
    "    name = \"Close Price\",\n",
    "    line = dict(color = \"blue\")\n",
    "))\n",
    "price.update_layout(\n",
    "    title = \"AAPL Closing Price\",\n",
    "    xaxis_title = \"Date (Year-Month-Day)\",\n",
    "    yaxis_title = \"Price ($)\",\n",
    "    xaxis_rangeslider_visible = False\n",
    ")"
   ]
  },
  {
   "cell_type": "code",
   "execution_count": null,
   "id": "b62e93e8",
   "metadata": {},
   "outputs": [],
   "source": [
    "# Calculate a 50-day moving average using TA-Lib\n",
    "data['MA50'] = talib.SMA(data['Close'], timeperiod=50)\n",
    "\n",
    "# Calculate a 200-day moving average using TA-Lib\n",
    "data['MA200'] = talib.SMA(data['Close'], timeperiod=200 )\n",
    "\n",
    "# Plot closing price and moving averages\n",
    "plt.figure(figsize=(12, 6))\n",
    "plt.plot(data.index, data['Close'], label='AAPL Close', color='blue', linewidth=1)\n",
    "plt.plot(data.index, data['MA50'], label='50-day SMA', color='orange', linewidth=1.2)\n",
    "plt.plot(data.index, data['MA200'], label='200-day SMA', color='red', linewidth=1.2)\n",
    "\n",
    "plt.title(\"AAPL Price with 50 & 200-Day Moving Averages\")\n",
    "plt.xlabel(\"Date\")\n",
    "plt.ylabel(\"Price (USD)\")\n",
    "plt.legend()\n",
    "plt.grid(True)\n",
    "plt.show()"
   ]
  }
 ],
 "metadata": {
  "jupytext": {
   "cell_metadata_filter": "-all",
   "main_language": "python",
   "notebook_metadata_filter": "-all"
  },
  "kernelspec": {
   "display_name": "Python 3",
   "language": "python",
   "name": "python3"
  },
  "language_info": {
   "codemirror_mode": {
    "name": "ipython",
    "version": 3
   },
   "file_extension": ".py",
   "mimetype": "text/x-python",
   "name": "python",
   "nbconvert_exporter": "python",
   "pygments_lexer": "ipython3",
   "version": "3.10.18"
  }
 },
 "nbformat": 4,
 "nbformat_minor": 5
}
