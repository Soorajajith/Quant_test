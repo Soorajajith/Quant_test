{
 "cells": [
  {
   "cell_type": "code",
   "execution_count": 4,
   "id": "52a4f3d7",
   "metadata": {},
   "outputs": [],
   "source": [
    "import yfinance as yf\n",
    "import talib\n",
    "import matplotlib.pyplot as plt\n",
    "import numpy as np\n",
    "import plotly.graph_objects as go\n",
    "import matplotlib.dates as mdates\n",
    "import sys\n",
    "import os\n",
    "import importlib\n",
    "sys.path.append(os.path.abspath(\"../src\"))  # relative to the notebook location\n",
    "import data_loader as dl\n",
    "import data_plotter as dp\n",
    "import stats_analysis as sa\n",
    "import options_analysis as oa\n",
    "import financial_analysis as fa\n",
    "importlib.reload(dl)\n",
    "importlib.reload(dp)\n",
    "importlib.reload(sa)\n",
    "importlib.reload(fa)\n",
    "market_data_plotter_func = dp.PlotterClass().MarketDataPlotter()"
   ]
  },
  {
   "cell_type": "code",
   "execution_count": 5,
   "id": "e106d476",
   "metadata": {},
   "outputs": [
    {
     "name": "stdout",
     "output_type": "stream",
     "text": [
      "yfinance\n",
      "['AAPL', 'MSFT', 'GOOGL', 'AMZN', 'NVDA', 'TSLA', 'BRK-B', 'META', 'V', 'JPM']\n"
     ]
    }
   ],
   "source": [
    "stock_data = dl.DataLoader()\n",
    "market_data_plotter_func = dp.PlotterClass().MarketDataPlotter()\n",
    "statistics_analysis_func = sa.StatsAnalysis()\n",
    "options_analysis_func = oa.OptionsAnalysis()\n",
    "financial_analysis_func = fa.FinancialAnalysis()\n",
    "print(stock_data.source)  # Print the data source to verify\n",
    "print(stock_data.tickers)  # Print the list of tickers to verify"
   ]
  },
  {
   "cell_type": "code",
   "execution_count": 6,
   "id": "7bc4ba84",
   "metadata": {},
   "outputs": [
    {
     "name": "stdout",
     "output_type": "stream",
     "text": [
      "Index(['index', 'Tax Effect Of Unusual Items', 'Tax Rate For Calcs',\n",
      "       'Normalized EBITDA', 'Total Unusual Items',\n",
      "       'Total Unusual Items Excluding Goodwill',\n",
      "       'Net Income From Continuing Operation Net Minority Interest',\n",
      "       'Reconciled Depreciation', 'Reconciled Cost Of Revenue', 'EBITDA',\n",
      "       'EBIT', 'Net Interest Income', 'Interest Expense', 'Interest Income',\n",
      "       'Normalized Income',\n",
      "       'Net Income From Continuing And Discontinued Operation',\n",
      "       'Total Expenses', 'Total Operating Income As Reported',\n",
      "       'Diluted Average Shares', 'Basic Average Shares', 'Diluted EPS',\n",
      "       'Basic EPS', 'Diluted NI Availto Com Stockholders',\n",
      "       'Net Income Common Stockholders', 'Net Income',\n",
      "       'Net Income Including Noncontrolling Interests',\n",
      "       'Net Income Continuous Operations', 'Tax Provision', 'Pretax Income',\n",
      "       'Other Income Expense', 'Other Non Operating Income Expenses',\n",
      "       'Special Income Charges', 'Restructuring And Mergern Acquisition',\n",
      "       'Net Non Operating Interest Income Expense',\n",
      "       'Interest Expense Non Operating', 'Interest Income Non Operating',\n",
      "       'Operating Income', 'Operating Expense', 'Research And Development',\n",
      "       'Selling General And Administration', 'Gross Profit', 'Cost Of Revenue',\n",
      "       'Total Revenue', 'Operating Revenue', 'Symbol'],\n",
      "      dtype='object')\n",
      "                           revenue_growth_yoy  stock_returns\n",
      "Date                                                        \n",
      "2022-01-31 00:00:00+00:00                 NaN            NaN\n",
      "2023-01-31 00:00:00+00:00            0.222932     -35.955928\n",
      "2024-01-31 00:00:00+00:00          125.854527       0.000000\n",
      "2025-01-31 00:00:00+00:00          114.203408       0.000000\n"
     ]
    }
   ],
   "source": [
    "ticker = stock_data.tickers[4]  # Example ticker, e.g., AAPL\n",
    "interval=\"1d\"\n",
    "start_date=\"2019-01-01\"\n",
    "end_date=\"2023-01-01\"\n",
    "market_data = stock_data.market_data(ticker,  interval=\"1d\", start_date=\"2019-01-01\", end_date=\"2023-01-01\")\n",
    "financial_data = stock_data.download_financials(ticker)\n",
    "options_data = stock_data.download_options_data(ticker)\n",
    "###\n",
    "plot_data = market_data_plotter_func.plot_closing_data(market_data)\n",
    "candlestick_data = market_data_plotter_func.plot_candlestick_data(market_data)\n",
    "###\n",
    "stats_data = statistics_analysis_func.calculate_returns(market_data, 20)\n",
    "return_descriptive_stats = statistics_analysis_func.calculate_descriptive_stats(stats_data)\n",
    "kde_estimation = statistics_analysis_func.estimate_return_distribution(stats_data)\n",
    "###\n",
    "print(financial_data.columns)\n",
    "process_financial_data = financial_analysis_func.prepare_financials(financial_data, ticker)\n",
    "# print(process_financial_data['Diluted EPS'])\n",
    "financial_growth = financial_analysis_func.compute_growth(process_financial_data, period='YoY')\n",
    "ratios = financial_analysis_func.compute_ratios(process_financial_data,market_data)\n",
    "revenue_growth = financial_analysis_func.compute_revenue_growth_vs_stock(process_financial_data,market_data)\n",
    "# print(ratios)\n",
    "# print(revenue_growth)\n",
    "# print(financial_growth)\n",
    "####\n",
    "\n",
    "# plot_volatility_return = market_data_plotter_func.plot_rolling_volatility(stats_data)\n",
    "# plot_high_low = market_data_plotter_func.plot_high_low_range(market_data)\n",
    "# plot_histogram = market_data_plotter_func.plot_return_distribution(stats_data, return_descriptive_stats, kde_estimation)\n",
    "# ##\n",
    "# plot_data.show()  # Display the plot\n",
    "# candlestick_data.show()  # Display the candlestick plot\n",
    "# plot_high_low.show()  # Display the high-low range plot\n",
    "# plot_volatility_return.show()  # Display the rolling volatility plot\n",
    "# plot_histogram.show()"
   ]
  }
 ],
 "metadata": {
  "jupytext": {
   "cell_metadata_filter": "-all",
   "main_language": "python",
   "notebook_metadata_filter": "-all"
  },
  "kernelspec": {
   "display_name": "Python 3",
   "language": "python",
   "name": "python3"
  },
  "language_info": {
   "codemirror_mode": {
    "name": "ipython",
    "version": 3
   },
   "file_extension": ".py",
   "mimetype": "text/x-python",
   "name": "python",
   "nbconvert_exporter": "python",
   "pygments_lexer": "ipython3",
   "version": "3.10.18"
  }
 },
 "nbformat": 4,
 "nbformat_minor": 5
}
