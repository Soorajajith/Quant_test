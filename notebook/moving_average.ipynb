{
 "cells": [
  {
   "cell_type": "code",
   "execution_count": 26,
   "id": "52a4f3d7",
   "metadata": {},
   "outputs": [
    {
     "data": {
      "text/plain": [
       "<module 'data_loader' from '/workspaces/Quant_test/src/data_loader.py'>"
      ]
     },
     "execution_count": 26,
     "metadata": {},
     "output_type": "execute_result"
    }
   ],
   "source": [
    "import yfinance as yf\n",
    "import talib\n",
    "import matplotlib.pyplot as plt\n",
    "import numpy as np\n",
    "import plotly.graph_objects as go\n",
    "import matplotlib.dates as mdates\n",
    "import sys\n",
    "import os\n",
    "import importlib\n",
    "sys.path.append(os.path.abspath(\"../src\"))  # relative to the notebook location\n",
    "import data_loader as dl\n",
    "importlib.reload(dl)"
   ]
  },
  {
   "cell_type": "code",
   "execution_count": 27,
   "id": "e106d476",
   "metadata": {},
   "outputs": [
    {
     "name": "stdout",
     "output_type": "stream",
     "text": [
      "yfinance\n",
      "['AAPL', 'MSFT', 'GOOGL', 'AMZN', 'NVDA', 'TSLA', 'BRK-B', 'META', 'V', 'JPM']\n"
     ]
    }
   ],
   "source": [
    "stock_data = dl.DataLoader()\n",
    "print(stock_data.source)  # Print the data source to verify\n",
    "print(stock_data.tickers)  # Print the list of tickers to verify"
   ]
  },
  {
   "cell_type": "code",
   "execution_count": 28,
   "id": "7bc4ba84",
   "metadata": {},
   "outputs": [
    {
     "name": "stdout",
     "output_type": "stream",
     "text": [
      "                       Date        Open        High         Low       Close  \\\n",
      "0 2019-01-11 00:00:00-05:00   96.889127   97.123862   95.433769   96.522942   \n",
      "1 2019-01-16 00:00:00-05:00   98.832728   99.771667   98.551044   98.945396   \n",
      "2 2019-01-31 00:00:00-05:00   97.461877   98.795168   96.879732   98.053406   \n",
      "3 2019-02-05 00:00:00-05:00   99.583855  100.719970   99.489962  100.673027   \n",
      "4 2019-02-15 00:00:00-05:00  101.320900  101.687086  100.804481  101.611969   \n",
      "\n",
      "       Volume Symbol  \n",
      "0  28314200.0   MSFT  \n",
      "1  29853900.0   MSFT  \n",
      "2  55636400.0   MSFT  \n",
      "3  27325400.0   MSFT  \n",
      "4  26606900.0   MSFT  \n",
      "        contractSymbol  strike  lastPrice     bid     ask  volume  \\\n",
      "0  MSFT250822C00250000   250.0     273.72  268.50  271.35     2.0   \n",
      "1  MSFT250822C00320000   320.0     202.85  198.85  201.40     1.0   \n",
      "2  MSFT250822C00350000   350.0     174.87  168.70  171.40     1.0   \n",
      "3  MSFT250822C00360000   360.0     167.40  158.55  161.45     2.0   \n",
      "4  MSFT250822C00370000   370.0     144.04  148.90  151.45     1.0   \n",
      "\n",
      "   openInterest   Type Ticker  \n",
      "0           1.0  calls   MSFT  \n",
      "1           1.0  calls   MSFT  \n",
      "2           1.0  calls   MSFT  \n",
      "3          13.0  calls   MSFT  \n",
      "4           1.0  calls   MSFT  \n",
      "       index  Tax Effect Of Unusual Items  Tax Rate For Calcs  \\\n",
      "0 2025-06-30                -7.721784e+07            0.176296   \n",
      "1 2024-06-30                -1.000900e+08            0.182313   \n",
      "2 2023-06-30                -2.850000e+06            0.190000   \n",
      "3 2022-06-30                 4.375400e+07            0.131000   \n",
      "\n",
      "   Normalized EBITDA  Total Unusual Items  \\\n",
      "0       1.606030e+11         -438000000.0   \n",
      "1       1.335580e+11         -549000000.0   \n",
      "2       1.051550e+11          -15000000.0   \n",
      "3       9.990500e+10          334000000.0   \n",
      "\n",
      "   Total Unusual Items Excluding Goodwill  \\\n",
      "0                            -438000000.0   \n",
      "1                            -549000000.0   \n",
      "2                             -15000000.0   \n",
      "3                             334000000.0   \n",
      "\n",
      "   Net Income From Continuing Operation Net Minority Interest  \\\n",
      "0                                       1.018320e+11            \n",
      "1                                       8.813600e+10            \n",
      "2                                       7.236100e+10            \n",
      "3                                       7.273800e+10            \n",
      "\n",
      "   Reconciled Depreciation  Reconciled Cost Of Revenue        EBITDA  ...  \\\n",
      "0             3.415300e+10                8.783100e+10  1.601650e+11  ...   \n",
      "1             2.228700e+10                7.411400e+10  1.330090e+11  ...   \n",
      "2             1.386100e+10                6.586300e+10  1.051400e+11  ...   \n",
      "3             1.446000e+10                6.265000e+10  1.002390e+11  ...   \n",
      "\n",
      "   Research And Development  Selling General And Administration  \\\n",
      "0              3.248800e+10                        3.287700e+10   \n",
      "1              2.951000e+10                        3.206500e+10   \n",
      "2              2.719500e+10                        3.033400e+10   \n",
      "3              2.451200e+10                        2.772500e+10   \n",
      "\n",
      "   Selling And Marketing Expense  General And Administrative Expense  \\\n",
      "0                   2.565400e+10                        7.223000e+09   \n",
      "1                   2.445600e+10                        7.609000e+09   \n",
      "2                   2.275900e+10                        7.575000e+09   \n",
      "3                   2.182500e+10                        5.900000e+09   \n",
      "\n",
      "   Other Gand A  Gross Profit  Cost Of Revenue  Total Revenue  \\\n",
      "0  7.223000e+09  1.938930e+11     8.783100e+10   2.817240e+11   \n",
      "1  7.609000e+09  1.710080e+11     7.411400e+10   2.451220e+11   \n",
      "2  7.575000e+09  1.460520e+11     6.586300e+10   2.119150e+11   \n",
      "3  5.900000e+09  1.356200e+11     6.265000e+10   1.982700e+11   \n",
      "\n",
      "   Operating Revenue  Symbol  \n",
      "0       2.817240e+11    MSFT  \n",
      "1       2.451220e+11    MSFT  \n",
      "2       2.119150e+11    MSFT  \n",
      "3       1.982700e+11    MSFT  \n",
      "\n",
      "[4 rows x 49 columns]\n"
     ]
    }
   ],
   "source": [
    "ticker = stock_data.tickers[1]  # Example ticker, e.g., AAPL\n",
    "interval=\"5d\"\n",
    "start_date=\"2019-01-01\"\n",
    "end_date=\"2023-01-01\"\n",
    "market_data = stock_data.market_data(ticker,  interval=\"5d\", start_date=\"2019-01-01\", end_date=\"2023-01-01\")\n",
    "financial_data = stock_data.download_financials(ticker)\n",
    "options_data = stock_data.download_options_data(ticker)\n",
    "ticker_all_data = stock_data.download_all_data(ticker, interval, start_date, end_date)\n",
    "print(ticker_all_data.market_data.head())  # Print the first few rows of market data\n",
    "print(ticker_all_data.options_data.head())  # Print the first few rows of options data\n",
    "print(ticker_all_data.financials.head())  # Print the first few rows of financial"
   ]
  },
  {
   "cell_type": "code",
   "execution_count": 29,
   "id": "99b481e9",
   "metadata": {},
   "outputs": [],
   "source": [
    "# Parameters\n",
    "# aapl = yf.Ticker(\"AAPL\")\n",
    "# data = aapl.history(period=\"max\")\n",
    "# # Plotly plot\n",
    "# price = go.Figure()\n",
    "# price.add_trace(go.Scatter(\n",
    "#     x = data.index,\n",
    "#     y = data[\"Close\"],\n",
    "#     mode = \"lines\",\n",
    "#     name = \"Close Price\",\n",
    "#     line = dict(color = \"blue\")\n",
    "# ))\n",
    "# price.update_layout(\n",
    "#     title = \"AAPL Closing Price\",\n",
    "#     xaxis_title = \"Date (Year-Month-Day)\",\n",
    "#     yaxis_title = \"Price ($)\",\n",
    "#     xaxis_rangeslider_visible = False\n",
    "# )"
   ]
  },
  {
   "cell_type": "code",
   "execution_count": 30,
   "id": "b62e93e8",
   "metadata": {},
   "outputs": [],
   "source": [
    "# Calculate a 50-day moving average using TA-Lib\n",
    "# data['MA50'] = talib.SMA(data['Close'], timeperiod=50)\n",
    "\n",
    "# # Calculate a 200-day moving average using TA-Lib\n",
    "# data['MA200'] = talib.SMA(data['Close'], timeperiod=200 )\n",
    "\n",
    "# Plot closing price and moving averages\n",
    "# plt.figure(figsize=(12, 6))\n",
    "# plt.plot(data.index, data['Close'], label='AAPL Close', color='blue', linewidth=1)\n",
    "# plt.plot(data.index, data['MA50'], label='50-day SMA', color='orange', linewidth=1.2)\n",
    "# plt.plot(data.index, data['MA200'], label='200-day SMA', color='red', linewidth=1.2)\n",
    "\n",
    "# plt.title(\"AAPL Price with 50 & 200-Day Moving Averages\")\n",
    "# plt.xlabel(\"Date\")\n",
    "# plt.ylabel(\"Price (USD)\")\n",
    "# plt.legend()\n",
    "# plt.grid(True)\n",
    "# plt.show()"
   ]
  },
  {
   "cell_type": "code",
   "execution_count": null,
   "id": "6eabff02",
   "metadata": {},
   "outputs": [],
   "source": []
  }
 ],
 "metadata": {
  "jupytext": {
   "cell_metadata_filter": "-all",
   "main_language": "python",
   "notebook_metadata_filter": "-all"
  },
  "kernelspec": {
   "display_name": "Python 3",
   "language": "python",
   "name": "python3"
  },
  "language_info": {
   "codemirror_mode": {
    "name": "ipython",
    "version": 3
   },
   "file_extension": ".py",
   "mimetype": "text/x-python",
   "name": "python",
   "nbconvert_exporter": "python",
   "pygments_lexer": "ipython3",
   "version": "3.10.18"
  }
 },
 "nbformat": 4,
 "nbformat_minor": 5
}
