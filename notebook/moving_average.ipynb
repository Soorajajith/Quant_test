{
 "cells": [
  {
   "cell_type": "code",
   "execution_count": null,
   "id": "52a4f3d7",
   "metadata": {},
   "outputs": [],
   "source": [
    "import yfinance as yf\n",
    "import talib\n",
    "import matplotlib.pyplot as plt\n",
    "import numpy as np\n",
    "import plotly.graph_objects as go\n",
    "import matplotlib.dates as mdates\n",
    "import sys\n",
    "import os\n",
    "import importlib\n",
    "sys.path.append(os.path.abspath(\"../src\"))  # relative to the notebook location\n",
    "import data_loader as dl\n",
    "import data_plotter as dp\n",
    "import stats_analysis as sa\n",
    "importlib.reload(dl)\n",
    "importlib.reload(dp)\n",
    "importlib.reload(sa)"
   ]
  },
  {
   "cell_type": "code",
   "execution_count": null,
   "id": "e106d476",
   "metadata": {},
   "outputs": [],
   "source": [
    "stock_data = dl.DataLoader()\n",
    "market_data_plotter_func = dp.PlotterClass().MarketData()\n",
    "statistics_analysis_func = sa.StatsAnalysis()\n",
    "print(stock_data.source)  # Print the data source to verify\n",
    "print(stock_data.tickers)  # Print the list of tickers to verify"
   ]
  },
  {
   "cell_type": "code",
   "execution_count": null,
   "id": "7bc4ba84",
   "metadata": {},
   "outputs": [],
   "source": [
    "ticker = stock_data.tickers[1]  # Example ticker, e.g., AAPL\n",
    "interval=\"5d\"\n",
    "start_date=\"2019-01-01\"\n",
    "end_date=\"2023-01-01\"\n",
    "market_data = stock_data.market_data(ticker,  interval=\"5d\", start_date=\"2019-01-01\", end_date=\"2023-01-01\")\n",
    "financial_data = stock_data.download_financials(ticker)\n",
    "options_data = stock_data.download_options_data(ticker)\n",
    "ticker_all_data = stock_data.download_all_data(ticker, interval, start_date, end_date)\n",
    "###\n",
    "plot_data = market_data_plotter_func.plot_closing_data(market_data)\n",
    "candlestick_data = market_data_plotter_func.plot_candlestick_data(market_data)\n",
    "###\n",
    "stats_data = statistics_analysis_func.calculate_returns(market_data, 20)\n",
    "return_descriptive_stats = statistics_analysis_func.calculate_descriptive_stats(stats_data)\n",
    "kde_estimation = statistics_analysis_func.estimate_return_distribution(stats_data)\n",
    "\n",
    "####\n",
    "plot_volatility_return = market_data_plotter_func.plot_rolling_volatility(stats_data)\n",
    "plot_high_low = market_data_plotter_func.plot_high_low_range(market_data)\n",
    "plot_histogram = market_data_plotter_func.plot_return_distribution(stats_data, return_descriptive_stats, kde_estimation)\n",
    "##\n",
    "plot_data.show()  # Display the plot\n",
    "candlestick_data.show()  # Display the candlestick plot\n",
    "plot_high_low.show()  # Display the high-low range plot\n",
    "plot_volatility_return.show()  # Display the rolling volatility plot\n",
    "plot_histogram.show()"
   ]
  }
 ],
 "metadata": {
  "jupytext": {
   "cell_metadata_filter": "-all",
   "main_language": "python",
   "notebook_metadata_filter": "-all"
  },
  "kernelspec": {
   "display_name": "Python 3",
   "language": "python",
   "name": "python3"
  },
  "language_info": {
   "codemirror_mode": {
    "name": "ipython",
    "version": 3
   },
   "file_extension": ".py",
   "mimetype": "text/x-python",
   "name": "python",
   "nbconvert_exporter": "python",
   "pygments_lexer": "ipython3",
   "version": "3.10.18"
  }
 },
 "nbformat": 4,
 "nbformat_minor": 5
}
