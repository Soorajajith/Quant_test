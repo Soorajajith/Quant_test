{
 "cells": [
  {
   "cell_type": "code",
   "execution_count": null,
   "id": "52a4f3d7",
   "metadata": {},
   "outputs": [],
   "source": [
    "import yfinance as yf\n",
    "import talib\n",
    "import matplotlib.pyplot as plt"
   ]
  },
  {
   "cell_type": "code",
   "execution_count": null,
   "id": "99b481e9",
   "metadata": {},
   "outputs": [],
   "source": [
    "# Parameters\n",
    "ticker = \"AAPL\"\n",
    "start_date = \"2022-01-01\"\n",
    "end_date = \"2025-01-01\"\n",
    "short_window = 20\n",
    "long_window = 50"
   ]
  },
  {
   "cell_type": "code",
   "execution_count": null,
   "id": "8710403b",
   "metadata": {},
   "outputs": [],
   "source": [
    "# 1. Download Data\n",
    "data = yf.download(ticker, start=start_date, end=end_date)\n",
    "data.dropna(inplace=True)"
   ]
  },
  {
   "cell_type": "code",
   "execution_count": null,
   "id": "a95d5279",
   "metadata": {},
   "outputs": [],
   "source": [
    "# 2. Calculate Moving Averages\n",
    "data['MA_Short'] = talib.SMA(data['Close'], timeperiod=short_window)\n",
    "data['MA_Long'] = talib.SMA(data['Close'], timeperiod=long_window)"
   ]
  },
  {
   "cell_type": "code",
   "execution_count": null,
   "id": "e6f3cc30",
   "metadata": {},
   "outputs": [],
   "source": [
    "# 3. Generate Buy/Sell Signals\n",
    "data['Signal'] = 0\n",
    "data.loc[data['MA_Short'] > data['MA_Long'], 'Signal'] = 1  # Buy signal\n",
    "data.loc[data['MA_Short'] < data['MA_Long'], 'Signal'] = -1 # Sell signal\n",
    "data['Position'] = data['Signal'].diff()"
   ]
  },
  {
   "cell_type": "code",
   "execution_count": null,
   "id": "d5b8aa50",
   "metadata": {},
   "outputs": [],
   "source": [
    "# 4. Plot\n",
    "plt.figure(figsize=(14, 7))\n",
    "plt.plot(data['Close'], label='Close Price', alpha=0.5)\n",
    "plt.plot(data['MA_Short'], label=f'{short_window}-Day SMA', linestyle='--')\n",
    "plt.plot(data['MA_Long'], label=f'{long_window}-Day SMA', linestyle='--')"
   ]
  },
  {
   "cell_type": "code",
   "execution_count": null,
   "id": "d2576db3",
   "metadata": {},
   "outputs": [],
   "source": [
    "# Plot Buy/Sell markers\n",
    "plt.plot(data[data['Position'] == 1].index, \n",
    "         data['MA_Short'][data['Position'] == 1], \n",
    "         '^', markersize=10, color='g', label='Buy Signal')\n",
    "plt.plot(data[data['Position'] == -1].index, \n",
    "         data['MA_Short'][data['Position'] == -1], \n",
    "         'v', markersize=10, color='r', label='Sell Signal')"
   ]
  },
  {
   "cell_type": "code",
   "execution_count": null,
   "id": "c76537a1",
   "metadata": {},
   "outputs": [],
   "source": [
    "plt.title(f'{ticker} - Moving Average Crossover Signals')\n",
    "plt.xlabel('Date')\n",
    "plt.ylabel('Price')\n",
    "plt.legend()\n",
    "plt.grid()\n",
    "plt.tight_layout()\n",
    "plt.show()"
   ]
  }
 ],
 "metadata": {
  "jupytext": {
   "cell_metadata_filter": "-all",
   "main_language": "python",
   "notebook_metadata_filter": "-all"
  },
  "kernelspec": {
   "display_name": "Python 3",
   "language": "python",
   "name": "python3"
  },
  "language_info": {
   "codemirror_mode": {
    "name": "ipython",
    "version": 3
   },
   "file_extension": ".py",
   "mimetype": "text/x-python",
   "name": "python",
   "nbconvert_exporter": "python",
   "pygments_lexer": "ipython3",
   "version": "3.10.18"
  }
 },
 "nbformat": 4,
 "nbformat_minor": 5
}
